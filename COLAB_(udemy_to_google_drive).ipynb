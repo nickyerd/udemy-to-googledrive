{
  "nbformat": 4,
  "nbformat_minor": 0,
  "metadata": {
    "colab": {
      "name": "COLAB (udemy to google drive).ipynb",
      "provenance": [],
      "collapsed_sections": []
    },
    "kernelspec": {
      "name": "python3",
      "display_name": "Python 3"
    }
  },
  "cells": [
    {
      "cell_type": "markdown",
      "metadata": {
        "id": "_SUsFH5i4JD7"
      },
      "source": [
        "# <font color='blue'>__Udemy To Google Drive Downloader__"
      ]
    },
    {
      "cell_type": "code",
      "metadata": {
        "id": "rix-SFzw9PIv",
        "cellView": "form"
      },
      "source": [
        "#@markdown <h3>Install Gitpython \n",
        "!pip install gitpython"
      ],
      "execution_count": null,
      "outputs": []
    },
    {
      "cell_type": "code",
      "metadata": {
        "id": "lLfL35ZP9D9y",
        "cellView": "form"
      },
      "source": [
        "#@markdown <h3>Mount Gdrive\n",
        "from google.colab import drive\n",
        "drive.mount('/content/drive')"
      ],
      "execution_count": null,
      "outputs": []
    },
    {
      "cell_type": "code",
      "metadata": {
        "id": "euGKuAlQ9Yuz",
        "cellView": "form"
      },
      "source": [
        "#@markdown <h3>Clone the Github Repo\n",
        "import git\n",
        "import os\n",
        "git.Git(\"/content\").clone(\"https://github.com/shel404/udemy-dl.git\")\n",
        "os.chdir(\"/content/udemy-dl\")"
      ],
      "execution_count": null,
      "outputs": []
    },
    {
      "cell_type": "code",
      "metadata": {
        "id": "ksYZcRPh9nVI",
        "cellView": "form"
      },
      "source": [
        "#@markdown <h3>Installing Required Package\n",
        "!pip install -r requirements.txt"
      ],
      "execution_count": null,
      "outputs": []
    },
    {
      "cell_type": "code",
      "metadata": {
        "id": "Wr5aTnvFIDRh",
        "cellView": "form"
      },
      "source": [
        "#@markdown <h3>Paste your access token\n",
        "Access_Token = \"\" #@param {type:\"string\"}\n",
        "f = open(\"cookie.txt\", \"w\")\n",
        "f.write(f'access_token={Access_Token}')\n",
        "f.close()"
      ],
      "execution_count": null,
      "outputs": []
    },
    {
      "cell_type": "code",
      "metadata": {
        "id": "PXSMAP5m9wWH",
        "cellView": "form"
      },
      "source": [
        "#@markdown <h3>Paste the course link\n",
        "Course_Link = \"\" #@param {type:\"string\"}\n",
        "\n",
        "!python udemy-dl.py $Course_Link -k cookie.txt -o \"/content/drive/My Drive\""
      ],
      "execution_count": null,
      "outputs": []
    }
  ]
}